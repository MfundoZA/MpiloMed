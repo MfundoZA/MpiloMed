{
 "cells": [
  {
   "cell_type": "code",
   "execution_count": null,
   "id": "6e170b1d",
   "metadata": {},
   "outputs": [
    {
     "name": "stdout",
     "output_type": "stream",
     "text": [
      "You: Hi\n",
      "Response: Hello! How can I help?\n",
      "You: I would like to see a doctor\n",
      "Response: To see a Dr please visit one of the nearest clinic:\n",
      " 1. Magobothi, 2km\n",
      " 2. Mzimbithi, 2.5 km\n",
      "You: When is my next appointment\n",
      "Response: Your next clinic appointment is 15/09/2022, 07h00 @ Mathithi day hospital. Bring your ID.\n",
      "You: Thank you\n",
      "Response: Thank you! Enjoy your day further\n"
     ]
    }
   ],
   "source": [
    "import re\n",
    "\n",
    "\n",
    "def message_probability(user_message, recognised_words, single_response=False, required_words=[]):\n",
    "    message_certainty = 0\n",
    "    has_required_words = True\n",
    "\n",
    "    # Counts how many words are present in each predefined message\n",
    "    for word in user_message:\n",
    "        if word in recognised_words:\n",
    "            message_certainty += 1\n",
    "\n",
    "    # Calculates the percent of recognised words in a user message\n",
    "    percentage = float(message_certainty) / float(len(recognised_words))\n",
    "\n",
    "    # Checks that the required words are in the string\n",
    "    for word in required_words:\n",
    "        if word not in user_message:\n",
    "            has_required_words = False\n",
    "            break\n",
    "\n",
    "    # Must either have the required words, or be a single response\n",
    "    if has_required_words or single_response:\n",
    "        return int(percentage * 100)\n",
    "    else:\n",
    "        return 0\n",
    "\n",
    "\n",
    "def check_all_messages(message):\n",
    "    highest_prob_list = {}\n",
    "\n",
    "    # Simplifies response creation / adds it to the dict\n",
    "    def response(bot_response, list_of_words, single_response=False, required_words=[]):\n",
    "        nonlocal highest_prob_list\n",
    "        highest_prob_list[bot_response] = message_probability(message, list_of_words, single_response, required_words)\n",
    "\n",
    "    # Responses -------------------------------------------------------------------------------------------------------\n",
    "    response('Hello! How can I help?', ['hello', 'hi', 'hey', 'sup', 'heyo'], single_response=True)\n",
    "    response('See you!', ['bye', 'goodbye'], single_response=True)\n",
    "    response('I\\'m doing fine, and you?', ['how', 'are', 'you', 'doing'], required_words=['how'])\n",
    "    response('You\\'re welcome!', ['thank', 'thanks'], single_response=True)\n",
    "    response('Thank you! Enjoy your day further', ['thank', 'you'], required_words=['thank', 'you'])\n",
    "    response('To see a Dr please visit one of the nearest clinic:\\n 1. Magobothi, 2km\\n 2. Mzimbithi, 2.5 km', ['i', 'would', 'like', 'to', 'see', 'a', 'doctor' ], required_words=['doctor'])\n",
    "    response('Your next clinic appointment is 15/09/2022, 07h00 @ Mathithi day hospital. Bring your ID.', ['when', 'is', 'my', 'next', 'appointment'], required_words=['next', 'appointment'])\n",
    "    response('Your shipment should arrive 30/08/2022 @ 17:00. Please have your ID at hand', ['my', 'chronic', 'medication', 'has', 'not', 'arrived'], required_words=['chronic', 'medication', 'not', 'arrived'])\n",
    "\n",
    "\n",
    "    best_match = max(highest_prob_list, key=highest_prob_list.get)\n",
    "\n",
    "    return 'Could not understand. Please type again' if highest_prob_list[best_match] < 1 else best_match\n",
    "\n",
    "\n",
    "# Used to get the response\n",
    "def get_response(user_input):\n",
    "    split_message = re.split(r'\\s+|[,;?!.-]\\s*', user_input.lower())\n",
    "    response = check_all_messages(split_message)\n",
    "    return response\n",
    "\n",
    "\n",
    "# Testing the response system\n",
    "while True:\n",
    "    print('Response: ' + get_response(input('You: ')))"
   ]
  }
 ],
 "metadata": {
  "kernelspec": {
   "display_name": "Python 3 (ipykernel)",
   "language": "python",
   "name": "python3"
  },
  "language_info": {
   "codemirror_mode": {
    "name": "ipython",
    "version": 3
   },
   "file_extension": ".py",
   "mimetype": "text/x-python",
   "name": "python",
   "nbconvert_exporter": "python",
   "pygments_lexer": "ipython3",
   "version": "3.9.12"
  }
 },
 "nbformat": 4,
 "nbformat_minor": 5
}
